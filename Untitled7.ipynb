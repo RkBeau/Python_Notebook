{
  "nbformat": 4,
  "nbformat_minor": 0,
  "metadata": {
    "colab": {
      "provenance": [],
      "authorship_tag": "ABX9TyOXdeKEwZ7ih7ZCviEN/aTi",
      "include_colab_link": true
    },
    "kernelspec": {
      "name": "python3",
      "display_name": "Python 3"
    },
    "language_info": {
      "name": "python"
    }
  },
  "cells": [
    {
      "cell_type": "markdown",
      "metadata": {
        "id": "view-in-github",
        "colab_type": "text"
      },
      "source": [
        "<a href=\"https://colab.research.google.com/github/RkBeau/Python_Notebook/blob/main/Untitled7.ipynb\" target=\"_parent\"><img src=\"https://colab.research.google.com/assets/colab-badge.svg\" alt=\"Open In Colab\"/></a>"
      ]
    },
    {
      "cell_type": "markdown",
      "source": [
        "# Defining Essential Python DataTypes\n"
      ],
      "metadata": {
        "id": "LDuvWRzSgnRp"
      }
    },
    {
      "cell_type": "markdown",
      "source": [
        "## Putting information into variables"
      ],
      "metadata": {
        "id": "PfddOa3zg7pT"
      }
    },
    {
      "cell_type": "code",
      "execution_count": 16,
      "metadata": {
        "colab": {
          "base_uri": "https://localhost:8080/"
        },
        "id": "Hw8-BCS6gUzn",
        "outputId": "b4f8794f-d75a-4f87-9331-f72c9db0bb13"
      },
      "outputs": [
        {
          "output_type": "stream",
          "name": "stdout",
          "text": [
            "5\n"
          ]
        }
      ],
      "source": [
        "# variables are assigned with value with the\"=\" assignment operator\n",
        "myVar = 5\n",
        "print(myVar)"
      ]
    },
    {
      "cell_type": "markdown",
      "source": [
        "# Understanding the Numeric Data Types"
      ],
      "metadata": {
        "id": "2gXKM9MaiRLf"
      }
    },
    {
      "cell_type": "markdown",
      "source": [
        "##Integers\n",
        "\n",
        "Integers are, put plainly, whole, real, numbers.  This includes \"-\" negative integers.\n"
      ],
      "metadata": {
        "id": "vT1218eFiec0"
      }
    },
    {
      "cell_type": "markdown",
      "source": [],
      "metadata": {
        "id": "AhWHIQgLieaa"
      }
    },
    {
      "cell_type": "code",
      "source": [
        "Test = 0b100\n",
        "print(\"100 binary: \", Test)\n",
        "\n",
        "Test = 0o100\n",
        "print(\"100 octal: \", Test)\n",
        "\n",
        "Test = 0x100\n",
        "print(\"100 hexadecimal: \", Test)\n",
        "\n",
        "print(bin(Test))\n",
        "print(oct(Test))\n",
        "print(hex(Test))"
      ],
      "metadata": {
        "colab": {
          "base_uri": "https://localhost:8080/"
        },
        "id": "_VQ5hzv2ipAa",
        "outputId": "196d203c-c273-499b-ea1f-0a9160e61375"
      },
      "execution_count": null,
      "outputs": [
        {
          "output_type": "stream",
          "name": "stdout",
          "text": [
            "100 binary:  4\n",
            "100 octal:  64\n",
            "100 hexadecimal:  256\n",
            "0b100000000\n",
            "0o400\n",
            "0x100\n"
          ]
        }
      ]
    },
    {
      "cell_type": "markdown",
      "source": [
        "## Floating Point Types"
      ],
      "metadata": {
        "id": "sdNNoI4NuznF"
      }
    },
    {
      "cell_type": "code",
      "source": [
        "Test = 255.0\n",
        "print(\"Direct Assignment: \", Test)\n",
        "\n",
        "Test = float(255)\n",
        "print(\"Type Casting: \", Test)\n",
        "\n",
        "Test = 2.55e2\n",
        "print(\"Scientific Notation: \", Test)\n",
        "\n",
        "Test = 2.55e-2\n",
        "print(\"Negative Exponent:\", Test)"
      ],
      "metadata": {
        "colab": {
          "base_uri": "https://localhost:8080/"
        },
        "id": "aZPh-ry-4PcO",
        "outputId": "7067f4fd-ca84-439e-da53-0dc326c893cd"
      },
      "execution_count": null,
      "outputs": [
        {
          "output_type": "stream",
          "name": "stdout",
          "text": [
            "Direct Assignment:  255.0\n",
            "Type Casting:  255.0\n",
            "Scientific Notation:  255.0\n",
            "Negative Exponent: 0.0255\n"
          ]
        }
      ]
    },
    {
      "cell_type": "markdown",
      "source": [
        "## Complex numbers"
      ],
      "metadata": {
        "id": "o6vUZMkY5Hqe"
      }
    },
    {
      "cell_type": "code",
      "source": [
        "myComplex = 3 + 4j\n",
        "print(myComplex.real)\n",
        "print(myComplex.imag)\n",
        "print(myComplex.conjugate())"
      ],
      "metadata": {
        "colab": {
          "base_uri": "https://localhost:8080/"
        },
        "id": "Z0d1Faoq5YBi",
        "outputId": "b5916d5e-d256-49b7-d508-8f24359df4fe"
      },
      "execution_count": null,
      "outputs": [
        {
          "output_type": "stream",
          "name": "stdout",
          "text": [
            "3.0\n",
            "4.0\n",
            "(3-4j)\n"
          ]
        }
      ]
    },
    {
      "cell_type": "markdown",
      "source": [
        "# Understanding Boolean Values"
      ],
      "metadata": {
        "id": "CEPJ6Utg56iY"
      }
    },
    {
      "cell_type": "code",
      "source": [
        "# A Boolean can only contain one of two values\n",
        "# true or false, 0 or 1, open or closed.\n",
        "myBool = 1 > 2\n",
        "print(myBool) #or\n",
        "myBool = 2 > 1\n",
        "print(myBool)"
      ],
      "metadata": {
        "colab": {
          "base_uri": "https://localhost:8080/"
        },
        "id": "EHKcW-y66OWA",
        "outputId": "61936295-9397-47fa-ad89-99a9b021d039"
      },
      "execution_count": null,
      "outputs": [
        {
          "output_type": "stream",
          "name": "stdout",
          "text": [
            "False\n",
            "True\n"
          ]
        }
      ]
    },
    {
      "cell_type": "markdown",
      "source": [
        "#Understanding Strings\n",
        "\n",
        "\n",
        "---\n",
        "Strings are simply a series of characters contained within doublequotes.  They can be any character on the keyboard in any order.  Strings can be made of numeric characters.  Sometimes these have to be converted to their numeric data types like so:\n"
      ],
      "metadata": {
        "id": "N-q9wuJ_7SUN"
      }
    },
    {
      "cell_type": "code",
      "source": [
        "# To better understand the concept of strings consider that each character is\n",
        "# represented in the machine by an ascii code. We can see this value by using\n",
        "# the ord() function.\n",
        "print(ord('A'))\n",
        "print(ord('a'))\n",
        "print(ord('0'))\n",
        "# note that the 'A' and 'a' characters value is 32 places difference.  this\n",
        "# is because ascii lists all lowercase then all uppercase letters.\n",
        "'''\n",
        "    sometimes it is neccesary to convert a string to a number\n",
        "    we do so with the int() function and the float() function\n",
        "'''\n",
        "myInt = int('123')\n",
        "print(myInt)\n",
        "myFloat = float('123.45')\n",
        "print(type(myFloat))\n",
        "print(type(myInt))\n",
        "'''\n",
        "    we can also convert a number to a string with the str() function\n",
        "'''\n",
        "myString = str(123)\n",
        "print(type(myString))"
      ],
      "metadata": {
        "colab": {
          "base_uri": "https://localhost:8080/"
        },
        "id": "Um8HMrmR7Wsg",
        "outputId": "79a9c310-e762-4364-afb7-8833b3d6d63e"
      },
      "execution_count": null,
      "outputs": [
        {
          "output_type": "stream",
          "name": "stdout",
          "text": [
            "65\n",
            "97\n",
            "48\n",
            "123\n",
            "<class 'float'>\n",
            "<class 'int'>\n",
            "<class 'str'>\n"
          ]
        }
      ]
    },
    {
      "cell_type": "markdown",
      "source": [
        "# Managing Information"
      ],
      "metadata": {
        "id": "_eTIuc_T_DAB"
      }
    },
    {
      "cell_type": "markdown",
      "source": [
        "#Creating and Using Functions\n"
      ],
      "metadata": {
        "id": "rGfrFBXBJzrs"
      }
    },
    {
      "cell_type": "markdown",
      "source": [
        "## Defining a function"
      ],
      "metadata": {
        "id": "kkK0DIrdJ-Gn"
      }
    },
    {
      "cell_type": "code",
      "source": [
        "# @title\n",
        "'''\n",
        "    To define a function we use the keyword \"def\" followed\n",
        "    by the function name and parenthesis ending with a colon\n",
        "'''\n",
        "def myFunction():\n",
        "    print(\"Hello World\")\n",
        "\n",
        "# Make sure to run this cell first to define the function %% [markdown] ##\n",
        "# Accessing functions a function is accessed by calling or invoking it. This is\n",
        "# done simply by entering the function name. %%"
      ],
      "metadata": {
        "id": "szjG9HeSewBK"
      },
      "execution_count": null,
      "outputs": []
    },
    {
      "cell_type": "markdown",
      "source": [
        "## Accessing functions\n",
        "\n",
        "a function is accessed by calling or invoking it.  This is done simply by entering the function name."
      ],
      "metadata": {
        "id": "UKk1FUd-LpW5"
      }
    },
    {
      "cell_type": "code",
      "source": [
        "myFunction()  # Now you can call the function"
      ],
      "metadata": {
        "colab": {
          "base_uri": "https://localhost:8080/",
          "height": 147
        },
        "id": "_sWHN3bGMESP",
        "outputId": "02027842-eb31-4b81-e0de-2835750b56d9"
      },
      "execution_count": 1,
      "outputs": [
        {
          "output_type": "error",
          "ename": "NameError",
          "evalue": "name 'myFunction' is not defined",
          "traceback": [
            "\u001b[0;31m---------------------------------------------------------------------------\u001b[0m",
            "\u001b[0;31mNameError\u001b[0m                                 Traceback (most recent call last)",
            "\u001b[0;32m<ipython-input-1-28fc209470a8>\u001b[0m in \u001b[0;36m<cell line: 1>\u001b[0;34m()\u001b[0m\n\u001b[0;32m----> 1\u001b[0;31m \u001b[0mmyFunction\u001b[0m\u001b[0;34m(\u001b[0m\u001b[0;34m)\u001b[0m  \u001b[0;31m# Now you can call the function\u001b[0m\u001b[0;34m\u001b[0m\u001b[0;34m\u001b[0m\u001b[0m\n\u001b[0m",
            "\u001b[0;31mNameError\u001b[0m: name 'myFunction' is not defined"
          ]
        }
      ]
    },
    {
      "cell_type": "markdown",
      "source": [
        "# Understanding arguments\n",
        "\n",
        "    Arguments are data you supply the function with.  these may be litorals or variable names.  "
      ],
      "metadata": {
        "id": "6x4xc4ZiMoY-"
      }
    },
    {
      "cell_type": "code",
      "source": [
        "def AddIt(value1, value2):\n",
        "    print(value1, \" + \", value2, \" = \", (value1 + value2))\n",
        "3\n",
        "AddIt(1, 2)"
      ],
      "metadata": {
        "colab": {
          "base_uri": "https://localhost:8080/"
        },
        "id": "qyhan9KvNBQA",
        "outputId": "d7e35cb8-f5d0-4a6c-bd81-f5abec205b66"
      },
      "execution_count": 2,
      "outputs": [
        {
          "output_type": "stream",
          "name": "stdout",
          "text": [
            "1  +  2  =  3\n"
          ]
        }
      ]
    },
    {
      "cell_type": "markdown",
      "source": [
        "### default values\n",
        "    to create a default value simply follow the argument name with an assignment operator and the value."
      ],
      "metadata": {
        "id": "WhWajYX2Nw0d"
      }
    },
    {
      "cell_type": "code",
      "source": [
        "def Hello(Greeting = \"No Value Supplied\"):\n",
        "    print(Greeting)\n",
        "\n",
        "Hello()\n",
        "Hello(\"hello world\")"
      ],
      "metadata": {
        "colab": {
          "base_uri": "https://localhost:8080/"
        },
        "id": "gWB6qVhhOHVu",
        "outputId": "db64d289-7f32-4b5d-b2e1-a520c8526777"
      },
      "execution_count": null,
      "outputs": [
        {
          "output_type": "stream",
          "name": "stdout",
          "text": [
            "No Value Supplied\n",
            "hello world\n"
          ]
        }
      ]
    },
    {
      "cell_type": "markdown",
      "source": [
        "## Creating functions with a variable number of arguments"
      ],
      "metadata": {
        "id": "p2CEyAHkPJ-6"
      }
    },
    {
      "cell_type": "code",
      "source": [
        "'''\n",
        "    To create a function that can accept a variable number of arguments\n",
        "    create a variable preceded by an asterisk and the name of the variable like so:\n",
        "'''\n",
        "def Hello4(ArgCount, *varArgs):\n",
        "    print(\"You passed \", ArgCount, \" arguments.\")\n",
        "    for Arg in varArgs:\n",
        "        print(Arg)\n",
        "\n",
        "Hello4(1, \"Hello\")\n",
        "Hello4(2, \"Hello\", \"World\")"
      ],
      "metadata": {
        "colab": {
          "base_uri": "https://localhost:8080/"
        },
        "id": "64AAdLWyuB2i",
        "outputId": "0659a7c6-3d1b-4127-cecd-1480b076361b"
      },
      "execution_count": null,
      "outputs": [
        {
          "output_type": "stream",
          "name": "stdout",
          "text": [
            "You passed  1  arguments.\n",
            "Hello\n",
            "You passed  2  arguments.\n",
            "Hello\n",
            "World\n"
          ]
        }
      ]
    },
    {
      "cell_type": "code",
      "source": [
        "def Hello4(ArgCount, *varArgs):\n",
        "    print(\"You passed \", ArgCount, \" arguments.\")\n",
        "    for Arg in varArgs:\n",
        "        print(Arg)\n",
        "Hello4(1, \"A test string.\")\n",
        "Hello4(3, \"one\", \"two\", \"three\")\n"
      ],
      "metadata": {
        "colab": {
          "base_uri": "https://localhost:8080/"
        },
        "id": "_quMYGlCPhG8",
        "outputId": "b9d1dbfd-4413-4fef-b7bd-0fca4acad4a5"
      },
      "execution_count": 7,
      "outputs": [
        {
          "output_type": "stream",
          "name": "stdout",
          "text": [
            "You passed  1  arguments.\n",
            "A test string.\n",
            "You passed  3  arguments.\n",
            "one\n",
            "two\n",
            "three\n"
          ]
        }
      ]
    },
    {
      "cell_type": "markdown",
      "source": [
        "## Returning Information From Functions\n",
        "    To return data to a caller, a function needs to include the keyword \"return\", followed by the data to be returned.  Some data types commonly returned are:\n",
        "        *Values*: Any value is acceptable.  Numbers, strings, Booleans.\n",
        "       * Variables*: The content of any variable works just as well as a direct value.  The caller recieves what is stored in the variable.\n",
        "       * Expression*s: You can simply return a + b rather than perform the calculation.  Place the result in a variable, and then return the variable.  Faster.\n",
        "       * Results from other functions*:  May call the data from another funtion as part of the return.*italicized text*\n",
        "```\n",
        "\n"
      ],
      "metadata": {
        "id": "1sijJ6rCQZmt"
      }
    },
    {
      "cell_type": "code",
      "source": [
        "def DoAdd(Value1, Value2):\n",
        "    return Value1 + Value2\n",
        "\n",
        "Result = DoAdd(1, 2)\n",
        "print(Result)\n",
        "\n",
        "DoAdd(5, 7)\n",
        "print('The result of 5 plus 7 is', DoAdd(5, 7))"
      ],
      "metadata": {
        "colab": {
          "base_uri": "https://localhost:8080/"
        },
        "id": "4o4WrJbdSSBV",
        "outputId": "7e6a9f94-3045-487a-c82c-1fc0503d517c"
      },
      "execution_count": 11,
      "outputs": [
        {
          "output_type": "stream",
          "name": "stdout",
          "text": [
            "3\n",
            "The result of 5 plus 7 is 12\n"
          ]
        }
      ]
    },
    {
      "cell_type": "markdown",
      "source": [
        "## Comparing function output"
      ],
      "metadata": {
        "id": "1hQv0qybS-IE"
      }
    },
    {
      "cell_type": "code",
      "source": [
        "DoAdd(2, 2) == DoAdd(1, 3)"
      ],
      "metadata": {
        "colab": {
          "base_uri": "https://localhost:8080/"
        },
        "id": "-ggtM2pyTHyw",
        "outputId": "519948a8-df2a-4de6-a323-6848c086e3e1"
      },
      "execution_count": 10,
      "outputs": [
        {
          "output_type": "execute_result",
          "data": {
            "text/plain": [
              "True"
            ]
          },
          "metadata": {},
          "execution_count": 10
        }
      ]
    },
    {
      "cell_type": "markdown",
      "source": [
        "# Getting User Input\n",
        "    Most functions require input from a user or a data file.  For this we use the input() funtion.\n",
        "\n",
        "    Input() always outputs a string.  Even if a user types a number the output is a string.  If you are needing a number you must convert it to the appropriate numeric data type after recieving the input.  "
      ],
      "metadata": {
        "id": "mHY32uHHThmQ"
      }
    },
    {
      "cell_type": "code",
      "source": [
        "Name = input(\"What is your name? \")\n",
        "print(\"Hello\", Name)\n",
        "\n",
        "#conversion to other data types.\n",
        "ANumber = float(input(\"Type a number: \"))\n",
        "print(\"You entered\" , ANumber)"
      ],
      "metadata": {
        "colab": {
          "base_uri": "https://localhost:8080/"
        },
        "id": "2n6x8UxYUQ5L",
        "outputId": "69582e46-ede0-48e2-9144-0408c871ba9b"
      },
      "execution_count": 14,
      "outputs": [
        {
          "output_type": "stream",
          "name": "stdout",
          "text": [
            "What is your name? kyle\n",
            "Hello kyle\n",
            "Type a number: 87.0\n",
            "You entered 87.0\n"
          ]
        }
      ]
    }
  ]
}