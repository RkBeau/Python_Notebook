{
  "nbformat": 4,
  "nbformat_minor": 0,
  "metadata": {
    "colab": {
      "provenance": [],
      "toc_visible": true,
      "history_visible": true,
      "authorship_tag": "ABX9TyNImlpNB2op4FJymKHZxK4/",
      "include_colab_link": true
    },
    "kernelspec": {
      "name": "python3",
      "display_name": "Python 3"
    },
    "language_info": {
      "name": "python"
    }
  },
  "cells": [
    {
      "cell_type": "markdown",
      "metadata": {
        "id": "view-in-github",
        "colab_type": "text"
      },
      "source": [
        "<a href=\"https://colab.research.google.com/github/RkBeau/Python_Notebook/blob/main/Untitled7.ipynb\" target=\"_parent\"><img src=\"https://colab.research.google.com/assets/colab-badge.svg\" alt=\"Open In Colab\"/></a>"
      ]
    },
    {
      "cell_type": "markdown",
      "source": [
        "# Defining Essential Python DataTypes\n"
      ],
      "metadata": {
        "id": "LDuvWRzSgnRp"
      }
    },
    {
      "cell_type": "markdown",
      "source": [
        "## Putting information into variables"
      ],
      "metadata": {
        "id": "PfddOa3zg7pT"
      }
    },
    {
      "cell_type": "code",
      "execution_count": 27,
      "metadata": {
        "colab": {
          "base_uri": "https://localhost:8080/"
        },
        "id": "Hw8-BCS6gUzn",
        "outputId": "74d4c5e8-7e3c-4a6f-ff39-b9210c6a943f"
      },
      "outputs": [
        {
          "output_type": "stream",
          "name": "stdout",
          "text": [
            "5\n"
          ]
        }
      ],
      "source": [
        "# variables are assigned with value with the\"=\" assignment operator\n",
        "myVar = 5\n",
        "print(myVar)"
      ]
    },
    {
      "cell_type": "markdown",
      "source": [
        "# Understanding the Numeric Data Types"
      ],
      "metadata": {
        "id": "2gXKM9MaiRLf"
      }
    },
    {
      "cell_type": "markdown",
      "source": [
        "##Integers"
      ],
      "metadata": {
        "id": "vT1218eFiec0"
      }
    },
    {
      "cell_type": "markdown",
      "source": [],
      "metadata": {
        "id": "AhWHIQgLieaa"
      }
    },
    {
      "cell_type": "code",
      "source": [
        "Test = 0b100\n",
        "print(\"100 binary: \", Test)\n",
        "\n",
        "Test = 0o100\n",
        "print(\"100 octal: \", Test)\n",
        "\n",
        "Test = 0x100\n",
        "print(\"100 hexadecimal: \", Test)\n",
        "\n",
        "print(bin(Test))\n",
        "print(oct(Test))\n",
        "print(hex(Test))"
      ],
      "metadata": {
        "colab": {
          "base_uri": "https://localhost:8080/"
        },
        "id": "_VQ5hzv2ipAa",
        "outputId": "196d203c-c273-499b-ea1f-0a9160e61375"
      },
      "execution_count": 28,
      "outputs": [
        {
          "output_type": "stream",
          "name": "stdout",
          "text": [
            "100 binary:  4\n",
            "100 octal:  64\n",
            "100 hexadecimal:  256\n",
            "0b100000000\n",
            "0o400\n",
            "0x100\n"
          ]
        }
      ]
    },
    {
      "cell_type": "markdown",
      "source": [
        "## Floating Point Types"
      ],
      "metadata": {
        "id": "sdNNoI4NuznF"
      }
    },
    {
      "cell_type": "code",
      "source": [
        "Test = 255.0\n",
        "print(\"Direct Assignment: \", Test)\n",
        "\n",
        "Test = float(255)\n",
        "print(\"Type Casting: \", Test)\n",
        "\n",
        "Test = 2.55e2\n",
        "print(\"Scientific Notation: \", Test)\n",
        "\n",
        "Test = 2.55e-2\n",
        "print(\"Negative Exponent:\", Test)"
      ],
      "metadata": {
        "colab": {
          "base_uri": "https://localhost:8080/"
        },
        "id": "aZPh-ry-4PcO",
        "outputId": "7067f4fd-ca84-439e-da53-0dc326c893cd"
      },
      "execution_count": 29,
      "outputs": [
        {
          "output_type": "stream",
          "name": "stdout",
          "text": [
            "Direct Assignment:  255.0\n",
            "Type Casting:  255.0\n",
            "Scientific Notation:  255.0\n",
            "Negative Exponent: 0.0255\n"
          ]
        }
      ]
    },
    {
      "cell_type": "markdown",
      "source": [
        "## Complex numbers"
      ],
      "metadata": {
        "id": "o6vUZMkY5Hqe"
      }
    },
    {
      "cell_type": "code",
      "source": [
        "myComplex = 3 + 4j\n",
        "print(myComplex.real)\n",
        "print(myComplex.imag)\n",
        "print(myComplex.conjugate())"
      ],
      "metadata": {
        "colab": {
          "base_uri": "https://localhost:8080/"
        },
        "id": "Z0d1Faoq5YBi",
        "outputId": "b5916d5e-d256-49b7-d508-8f24359df4fe"
      },
      "execution_count": 30,
      "outputs": [
        {
          "output_type": "stream",
          "name": "stdout",
          "text": [
            "3.0\n",
            "4.0\n",
            "(3-4j)\n"
          ]
        }
      ]
    },
    {
      "cell_type": "markdown",
      "source": [
        "# Understanding Boolean Values"
      ],
      "metadata": {
        "id": "CEPJ6Utg56iY"
      }
    },
    {
      "cell_type": "code",
      "source": [
        "# A Boolean can only contain one of two values\n",
        "# true or false, 0 or 1, open or closed.\n",
        "myBool = 1 > 2\n",
        "print(myBool) #or\n",
        "myBool = 2 > 1\n",
        "print(myBool)"
      ],
      "metadata": {
        "colab": {
          "base_uri": "https://localhost:8080/"
        },
        "id": "EHKcW-y66OWA",
        "outputId": "61936295-9397-47fa-ad89-99a9b021d039"
      },
      "execution_count": 31,
      "outputs": [
        {
          "output_type": "stream",
          "name": "stdout",
          "text": [
            "False\n",
            "True\n"
          ]
        }
      ]
    },
    {
      "cell_type": "markdown",
      "source": [
        "#Understanding Strings\n",
        "\n",
        "\n",
        "---\n",
        "Strings are simply a series of characters contained within doublequotes.  They can be any character on the keyboard in any order.  Strings can be made of numeric characters.  Sometimes these have to be converted to their numeric data types like so:\n"
      ],
      "metadata": {
        "id": "N-q9wuJ_7SUN"
      }
    },
    {
      "cell_type": "code",
      "source": [
        "# To better understand the concept of strings consider that each character is\n",
        "# represented in the machine by an ascii code. We can see this value by using\n",
        "# the ord() function.\n",
        "print(ord('A'))\n",
        "print(ord('a'))\n",
        "print(ord('0'))\n",
        "# note that the 'A' and 'a' characters value is 32 places difference.  this\n",
        "# is because ascii lists all lowercase then all uppercase letters.\n",
        "'''\n",
        "    sometimes it is neccesary to convert a string to a number\n",
        "    we do so with the int() function and the float() function\n",
        "'''\n",
        "myInt = int('123')\n",
        "print(myInt)\n",
        "myFloat = float('123.45')\n",
        "print(type(myFloat))\n",
        "print(type(myInt))\n",
        "'''\n",
        "    we can also convert a number to a string with the str() function\n",
        "'''\n",
        "myString = str(123)\n",
        "print(type(myString))"
      ],
      "metadata": {
        "colab": {
          "base_uri": "https://localhost:8080/"
        },
        "id": "Um8HMrmR7Wsg",
        "outputId": "79a9c310-e762-4364-afb7-8833b3d6d63e"
      },
      "execution_count": 32,
      "outputs": [
        {
          "output_type": "stream",
          "name": "stdout",
          "text": [
            "65\n",
            "97\n",
            "48\n",
            "123\n",
            "<class 'float'>\n",
            "<class 'int'>\n",
            "<class 'str'>\n"
          ]
        }
      ]
    },
    {
      "cell_type": "markdown",
      "source": [
        "# Managing Information"
      ],
      "metadata": {
        "id": "_eTIuc_T_DAB"
      }
    },
    {
      "cell_type": "code",
      "source": [],
      "metadata": {
        "colab": {
          "base_uri": "https://localhost:8080/",
          "height": 176
        },
        "id": "apiJ8uHR-V9d",
        "outputId": "052518df-aa5f-4705-c3d1-41884cb0fb51"
      },
      "execution_count": 33,
      "outputs": [
        {
          "output_type": "error",
          "ename": "NameError",
          "evalue": "name 't' is not defined",
          "traceback": [
            "\u001b[0;31m---------------------------------------------------------------------------\u001b[0m",
            "\u001b[0;31mNameError\u001b[0m                                 Traceback (most recent call last)",
            "\u001b[0;32m<ipython-input-33-34fc7a11cb38>\u001b[0m in \u001b[0;36m<cell line: 1>\u001b[0;34m()\u001b[0m\n\u001b[0;32m----> 1\u001b[0;31m \u001b[0mt\u001b[0m\u001b[0;34m\u001b[0m\u001b[0;34m\u001b[0m\u001b[0m\n\u001b[0m",
            "\u001b[0;31mNameError\u001b[0m: name 't' is not defined"
          ]
        }
      ]
    }
  ]
}